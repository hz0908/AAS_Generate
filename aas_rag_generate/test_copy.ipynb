{
 "cells": [
  {
   "cell_type": "code",
   "execution_count": 34,
   "metadata": {},
   "outputs": [
    {
     "name": "stderr",
     "output_type": "stream",
     "text": [
      "Loading checkpoint shards: 100%|██████████| 8/8 [00:25<00:00,  3.21s/it]\n"
     ]
    }
   ],
   "source": [
    "from transformers import AutoModelForCausalLM, AutoTokenizer\n",
    "import torch\n",
    "device = \"cuda\" # the device to load the model onto\n",
    "\n",
    "#model_path = \"/home/imc/桌面/Qwen1.5-72B/pythonProject/model/LLM-Research/Meta-Llama-3-8B-Instruct\"\n",
    "#model_path = \"/home/imc/桌面/aas_rag_generate/Qwen/Qwen2-7B\"\n",
    "model_path = \"/home/imc/桌面/Qwen1.5-72B/pythonProject/model/qwen/Qwen1___5-14B-Chat\"\n",
    "model = AutoModelForCausalLM.from_pretrained(\n",
    "    model_path,\n",
    "    torch_dtype=\"auto\",\n",
    "    device_map=\"auto\"\n",
    ")\n",
    "tokenizer = AutoTokenizer.from_pretrained(model_path)"
   ]
  },
  {
   "cell_type": "code",
   "execution_count": 17,
   "metadata": {},
   "outputs": [
    {
     "name": "stdout",
     "output_type": "stream",
     "text": [
      "<|im_start|>system\n",
      "<|im_end|>\n",
      "<|im_start|>user\n",
      "\n",
      "你好，请问你是谁？\n",
      "<|im_end|>\n",
      "<|im_start|>assistant\n",
      "\n"
     ]
    }
   ],
   "source": [
    "prompt = '''\n",
    "你好，请问你是谁？\n",
    "'''\n",
    "messages = [\n",
    "    {\"role\": \"system\", \"content\": \"\"},\n",
    "    {\"role\": \"user\", \"content\": prompt}\n",
    "]\n",
    "text = tokenizer.apply_chat_template(\n",
    "    messages,\n",
    "    tokenize=False,\n",
    "    add_generation_prompt=True\n",
    ")\n",
    "\n",
    "print(text)\n",
    "\n"
   ]
  },
  {
   "cell_type": "code",
   "execution_count": 1,
   "metadata": {},
   "outputs": [],
   "source": [
    "# text = '''\n",
    "# franka机器人程序依赖的库如下：\n",
    "# from omni.isaac.franka import Franka\n",
    "# from omni.isaac.core import World\n",
    "# from omni.isaac.core.objects import DynamicCuboid\n",
    "# from omni.isaac.franka.controllers import PickPlaceController\n",
    "# import numpy as np\n",
    "# jetbot机器人依赖的库如下：\n",
    "# import carb\n",
    "# import numpy as np\n",
    "# from omni.isaac.core import World\n",
    "# from omni.isaac.nucleus import get_assets_root_path\n",
    "# from omni.isaac.wheeled_robots.controllers.differential_controller import DifferentialController\n",
    "# from omni.isaac.wheeled_robots.robots import WheeledRobot\n",
    "# ur10机器人依赖的库如下：\n",
    "# import numpy as np\n",
    "# from omni.isaac.universal_robots import UR10\n",
    "# from omni.isaac.core import World\n",
    "# from omni.isaac.universal_robots.controllers.pick_place_controller import PickPlaceController\n",
    "# from omni.isaac.core.objects import DynamicCuboid\n",
    "# 请你将这些库依赖整合，输出python的import代码段\n",
    "# '''"
   ]
  },
  {
   "cell_type": "code",
   "execution_count": 33,
   "metadata": {},
   "outputs": [
    {
     "name": "stdout",
     "output_type": "stream",
     "text": [
      "<|im_start|>system\n",
      "You are Qwen, created by Alibaba Cloud. You are a helpful assistant.<|im_end|>\n",
      "<|im_start|>user\n",
      "告诉我大模型相关的一些介绍.<|im_end|>\n",
      "<|im_start|>assistant\n",
      "\n"
     ]
    }
   ],
   "source": [
    "# Prepare your prompts\n",
    "prompt = \"告诉我大模型相关的一些介绍.\"\n",
    "messages = [\n",
    "    {\"role\": \"system\", \"content\": \"你是一个python编程高手.\"},\n",
    "    {\"role\": \"user\", \"content\": prompt}\n",
    "]\n",
    "text = tokenizer.apply_chat_template(\n",
    "    messages,\n",
    "    tokenize=False,\n",
    "    add_generation_prompt=True\n",
    ")\n",
    "print(text)"
   ]
  },
  {
   "cell_type": "code",
   "execution_count": 38,
   "metadata": {},
   "outputs": [],
   "source": [
    "text = '''\n",
    "以下例程为将ur10机器人放置在（0,0,0）处并初始化的代码段：\n",
    "ur10 = my_world.scene.add(UR10(prim_path=\"/World/UR10\", name=\"my_UR10\", gripper_usd=None, attach_gripper=True, position=[0,0,0]))\n",
    "ur10.set_joints_default_state(\n",
    "    positions=np.array([-np.pi / 2, -np.pi / 2, -np.pi / 2, -np.pi / 2, np.pi / 2, 0])\n",
    ")\n",
    "ur10.gripper.set_default_state(opened=True)\n",
    "my_controller = PickPlaceController(name=\"pick_place_controller\", gripper=ur10.gripper, robot_articulation=ur10)\n",
    "articulation_controller = ur10.get_articulation_controller()\n",
    "请你仿照其写出将ur10机械臂A放置在（10,10,10）处，并初始化的代码，变量名使用ur10_a，另一个ur10机械臂B,使用变量名ur10_b，放在（-10,0,0）并初始化的代码\n",
    "'''\n"
   ]
  },
  {
   "cell_type": "code",
   "execution_count": 40,
   "metadata": {},
   "outputs": [
    {
     "name": "stdout",
     "output_type": "stream",
     "text": [
      "```python\n",
      "# 创建第一个UR10机械臂A\n",
      "ur10_a = my_world.scene.add(UR10(prim_path=\"/World/UR10\", name=\"ur10_a\", gripper_usd=None, attach_gripper=True, position=[10, 10, 10]))\n",
      "\n",
      "# 设置机械臂A的关节初始位置\n",
      "ur10_a.set_joints_default_state(positions=np.array([-np.pi / 2, -np.pi / 2, -np.pi / 2, -np.pi / 2, np.pi / 2, 0]))\n",
      "\n",
      "# 打开机械臂A的夹爪\n",
      "ur10_a.gripper.set_default_state(opened=True)\n",
      "\n",
      "# 创建第二个UR10机械臂B\n",
      "ur10_b = my_world.scene.add(UR10(prim_path=\"/World/UR10\", name=\"ur10_b\", gripper_usd=None, attach_gripper=True, position=[-10, 0, 0]))\n",
      "\n",
      "# 设置机械臂B的关节初始位置\n",
      "ur10_b.set_joints_default_state(positions=np.array([-np.pi / 2, -np.pi / 2, -np.pi / 2, -np.pi / 2, np.pi / 2, 0]))\n",
      "\n",
      "# 打开机械臂B的夹爪\n",
      "ur10_b.gripper.set_default_state(opened=True)\n",
      "\n",
      "# 创建控制器\n",
      "controller_a = PickPlaceController(name=\"controller_a\", gripper=ur10_a.gripper, robot_articulation=ur10_a)\n",
      "controller_b = PickPlaceController(name=\"controller_b\", gripper=ur10_b.gripper, robot_articulation=ur10_b)\n",
      "articulation_controller_a = ur10_a.get_articulation_controller()\n",
      "articulation_controller_b = ur10_b.get_articulation_controller()\n",
      "```\n",
      "这样就创建了两个UR10机械臂，并分别设置了它们的位置和初始状态。\n"
     ]
    }
   ],
   "source": [
    "model_inputs = tokenizer([text], return_tensors=\"pt\").to(device)\n",
    "input_ids = tokenizer.encode(text,return_tensors='pt')\n",
    "attention_mask = torch.ones(input_ids.shape,dtype=torch.long,device=device)\n",
    "generated_ids = model.generate(\n",
    "    model_inputs.input_ids,\n",
    "    attention_mask=attention_mask,\n",
    "    max_new_tokens=512,\n",
    "    pad_token_id=tokenizer.eos_token_id\n",
    ")\n",
    "generated_ids = [\n",
    "    output_ids[len(input_ids):] for input_ids, output_ids in zip(model_inputs.input_ids, generated_ids)\n",
    "]\n",
    "\n",
    "response = tokenizer.batch_decode(generated_ids, skip_special_tokens=True)[0]\n",
    "print(response)"
   ]
  }
 ],
 "metadata": {
  "kernelspec": {
   "display_name": "Python 3",
   "language": "python",
   "name": "python3"
  },
  "language_info": {
   "codemirror_mode": {
    "name": "ipython",
    "version": 3
   },
   "file_extension": ".py",
   "mimetype": "text/x-python",
   "name": "python",
   "nbconvert_exporter": "python",
   "pygments_lexer": "ipython3",
   "version": "3.10.12"
  }
 },
 "nbformat": 4,
 "nbformat_minor": 2
}
